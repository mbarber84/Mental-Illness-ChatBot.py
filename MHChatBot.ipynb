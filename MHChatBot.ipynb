{
  "nbformat": 4,
  "nbformat_minor": 0,
  "metadata": {
    "colab": {
      "provenance": [],
      "authorship_tag": "ABX9TyNuDDD1CLvFZhT6mxZ/Bbh7",
      "include_colab_link": true
    },
    "kernelspec": {
      "name": "python3",
      "display_name": "Python 3"
    },
    "language_info": {
      "name": "python"
    }
  },
  "cells": [
    {
      "cell_type": "markdown",
      "metadata": {
        "id": "view-in-github",
        "colab_type": "text"
      },
      "source": [
        "<a href=\"https://colab.research.google.com/github/mbarber84/Mental-Illness-ChatBot.py/blob/main/MHChatBot.ipynb\" target=\"_parent\"><img src=\"https://colab.research.google.com/assets/colab-badge.svg\" alt=\"Open In Colab\"/></a>"
      ]
    },
    {
      "cell_type": "code",
      "execution_count": null,
      "metadata": {
        "id": "GXaH5N6w3uRh"
      },
      "outputs": [],
      "source": [
        "#description: This is a 'smart' chat bot program"
      ]
    },
    {
      "cell_type": "code",
      "source": [
        "pip install nltk"
      ],
      "metadata": {
        "colab": {
          "base_uri": "https://localhost:8080/"
        },
        "id": "ko7SdwDo3680",
        "outputId": "a0075583-eed7-4fac-92b1-683c4c7165fc"
      },
      "execution_count": 1,
      "outputs": [
        {
          "output_type": "stream",
          "name": "stdout",
          "text": [
            "Looking in indexes: https://pypi.org/simple, https://us-python.pkg.dev/colab-wheels/public/simple/\n",
            "Requirement already satisfied: nltk in /usr/local/lib/python3.7/dist-packages (3.7)\n",
            "Requirement already satisfied: regex>=2021.8.3 in /usr/local/lib/python3.7/dist-packages (from nltk) (2022.6.2)\n",
            "Requirement already satisfied: joblib in /usr/local/lib/python3.7/dist-packages (from nltk) (1.2.0)\n",
            "Requirement already satisfied: tqdm in /usr/local/lib/python3.7/dist-packages (from nltk) (4.64.1)\n",
            "Requirement already satisfied: click in /usr/local/lib/python3.7/dist-packages (from nltk) (7.1.2)\n"
          ]
        }
      ]
    },
    {
      "cell_type": "code",
      "source": [
        "pip install newspaper3k"
      ],
      "metadata": {
        "colab": {
          "base_uri": "https://localhost:8080/"
        },
        "id": "28_QO_ow4Cey",
        "outputId": "dcaf20a9-3fe0-449d-9124-5e9d8bc6cc4b"
      },
      "execution_count": 2,
      "outputs": [
        {
          "output_type": "stream",
          "name": "stdout",
          "text": [
            "Looking in indexes: https://pypi.org/simple, https://us-python.pkg.dev/colab-wheels/public/simple/\n",
            "Collecting newspaper3k\n",
            "  Downloading newspaper3k-0.2.8-py3-none-any.whl (211 kB)\n",
            "\u001b[K     |████████████████████████████████| 211 kB 7.2 MB/s \n",
            "\u001b[?25hRequirement already satisfied: beautifulsoup4>=4.4.1 in /usr/local/lib/python3.7/dist-packages (from newspaper3k) (4.6.3)\n",
            "Requirement already satisfied: PyYAML>=3.11 in /usr/local/lib/python3.7/dist-packages (from newspaper3k) (6.0)\n",
            "Collecting jieba3k>=0.35.1\n",
            "  Downloading jieba3k-0.35.1.zip (7.4 MB)\n",
            "\u001b[K     |████████████████████████████████| 7.4 MB 55.8 MB/s \n",
            "\u001b[?25hRequirement already satisfied: nltk>=3.2.1 in /usr/local/lib/python3.7/dist-packages (from newspaper3k) (3.7)\n",
            "Collecting feedparser>=5.2.1\n",
            "  Downloading feedparser-6.0.10-py3-none-any.whl (81 kB)\n",
            "\u001b[K     |████████████████████████████████| 81 kB 9.1 MB/s \n",
            "\u001b[?25hRequirement already satisfied: requests>=2.10.0 in /usr/local/lib/python3.7/dist-packages (from newspaper3k) (2.23.0)\n",
            "Collecting tinysegmenter==0.3\n",
            "  Downloading tinysegmenter-0.3.tar.gz (16 kB)\n",
            "Requirement already satisfied: lxml>=3.6.0 in /usr/local/lib/python3.7/dist-packages (from newspaper3k) (4.9.1)\n",
            "Collecting tldextract>=2.0.1\n",
            "  Downloading tldextract-3.4.0-py3-none-any.whl (93 kB)\n",
            "\u001b[K     |████████████████████████████████| 93 kB 2.3 MB/s \n",
            "\u001b[?25hRequirement already satisfied: python-dateutil>=2.5.3 in /usr/local/lib/python3.7/dist-packages (from newspaper3k) (2.8.2)\n",
            "Collecting feedfinder2>=0.0.4\n",
            "  Downloading feedfinder2-0.0.4.tar.gz (3.3 kB)\n",
            "Requirement already satisfied: Pillow>=3.3.0 in /usr/local/lib/python3.7/dist-packages (from newspaper3k) (7.1.2)\n",
            "Collecting cssselect>=0.9.2\n",
            "  Downloading cssselect-1.2.0-py2.py3-none-any.whl (18 kB)\n",
            "Requirement already satisfied: six in /usr/local/lib/python3.7/dist-packages (from feedfinder2>=0.0.4->newspaper3k) (1.15.0)\n",
            "Collecting sgmllib3k\n",
            "  Downloading sgmllib3k-1.0.0.tar.gz (5.8 kB)\n",
            "Requirement already satisfied: joblib in /usr/local/lib/python3.7/dist-packages (from nltk>=3.2.1->newspaper3k) (1.2.0)\n",
            "Requirement already satisfied: click in /usr/local/lib/python3.7/dist-packages (from nltk>=3.2.1->newspaper3k) (7.1.2)\n",
            "Requirement already satisfied: tqdm in /usr/local/lib/python3.7/dist-packages (from nltk>=3.2.1->newspaper3k) (4.64.1)\n",
            "Requirement already satisfied: regex>=2021.8.3 in /usr/local/lib/python3.7/dist-packages (from nltk>=3.2.1->newspaper3k) (2022.6.2)\n",
            "Requirement already satisfied: chardet<4,>=3.0.2 in /usr/local/lib/python3.7/dist-packages (from requests>=2.10.0->newspaper3k) (3.0.4)\n",
            "Requirement already satisfied: urllib3!=1.25.0,!=1.25.1,<1.26,>=1.21.1 in /usr/local/lib/python3.7/dist-packages (from requests>=2.10.0->newspaper3k) (1.24.3)\n",
            "Requirement already satisfied: idna<3,>=2.5 in /usr/local/lib/python3.7/dist-packages (from requests>=2.10.0->newspaper3k) (2.10)\n",
            "Requirement already satisfied: certifi>=2017.4.17 in /usr/local/lib/python3.7/dist-packages (from requests>=2.10.0->newspaper3k) (2022.9.24)\n",
            "Collecting requests-file>=1.4\n",
            "  Downloading requests_file-1.5.1-py2.py3-none-any.whl (3.7 kB)\n",
            "Requirement already satisfied: filelock>=3.0.8 in /usr/local/lib/python3.7/dist-packages (from tldextract>=2.0.1->newspaper3k) (3.8.0)\n",
            "Building wheels for collected packages: tinysegmenter, feedfinder2, jieba3k, sgmllib3k\n",
            "  Building wheel for tinysegmenter (setup.py) ... \u001b[?25l\u001b[?25hdone\n",
            "  Created wheel for tinysegmenter: filename=tinysegmenter-0.3-py3-none-any.whl size=13552 sha256=ba206c331ead2a140ba05489528dd85f8d8dfabb59a631bd6846436636d9ea8f\n",
            "  Stored in directory: /root/.cache/pip/wheels/df/67/41/faca10fa501ca010be41b49d40360c2959e1c4f09bcbfa37fa\n",
            "  Building wheel for feedfinder2 (setup.py) ... \u001b[?25l\u001b[?25hdone\n",
            "  Created wheel for feedfinder2: filename=feedfinder2-0.0.4-py3-none-any.whl size=3357 sha256=0bf49d68a4161b5c110363cdd666a98dbd8a3cf4259d47eb6c15ae2ccc37b08b\n",
            "  Stored in directory: /root/.cache/pip/wheels/7f/d4/8f/6e2ca54744c9d7292d88ddb8d42876bcdab5e6d84a21c10346\n",
            "  Building wheel for jieba3k (setup.py) ... \u001b[?25l\u001b[?25hdone\n",
            "  Created wheel for jieba3k: filename=jieba3k-0.35.1-py3-none-any.whl size=7398404 sha256=ad26313c679d99b7257a8d56d9c5f32c01acf043c11527e074ccdbddac05ee5f\n",
            "  Stored in directory: /root/.cache/pip/wheels/4c/91/46/3c208287b726df325a5979574324878b679116e4baae1af3c3\n",
            "  Building wheel for sgmllib3k (setup.py) ... \u001b[?25l\u001b[?25hdone\n",
            "  Created wheel for sgmllib3k: filename=sgmllib3k-1.0.0-py3-none-any.whl size=6065 sha256=d98a3e6486d2c0fcf134f604025d9694ab7b59cf3cf17633873e735d300f67cc\n",
            "  Stored in directory: /root/.cache/pip/wheels/73/ad/a4/0dff4a6ef231fc0dfa12ffbac2a36cebfdddfe059f50e019aa\n",
            "Successfully built tinysegmenter feedfinder2 jieba3k sgmllib3k\n",
            "Installing collected packages: sgmllib3k, requests-file, tldextract, tinysegmenter, jieba3k, feedparser, feedfinder2, cssselect, newspaper3k\n",
            "Successfully installed cssselect-1.2.0 feedfinder2-0.0.4 feedparser-6.0.10 jieba3k-0.35.1 newspaper3k-0.2.8 requests-file-1.5.1 sgmllib3k-1.0.0 tinysegmenter-0.3 tldextract-3.4.0\n"
          ]
        }
      ]
    },
    {
      "cell_type": "code",
      "source": [
        "#import libraries needed\n",
        "from newspaper import Article\n",
        "import random\n",
        "import string\n",
        "import nltk\n",
        "from sklearn.feature_extraction.text import CountVectorizer\n",
        "from sklearn.metrics.pairwise import cosine_similarity\n",
        "import numpy as np\n",
        "import warnings\n",
        "warnings.filterwarnings('ignore')"
      ],
      "metadata": {
        "id": "oljTDjku4N4o"
      },
      "execution_count": 3,
      "outputs": []
    },
    {
      "cell_type": "code",
      "source": [
        "#Download punkt package\n",
        "nltk.download('punkt', quiet=True)"
      ],
      "metadata": {
        "colab": {
          "base_uri": "https://localhost:8080/"
        },
        "id": "ag2VcGl85mWF",
        "outputId": "3ef16bc3-6cc7-42ee-b0ea-1d908726ec1c"
      },
      "execution_count": 4,
      "outputs": [
        {
          "output_type": "execute_result",
          "data": {
            "text/plain": [
              "True"
            ]
          },
          "metadata": {},
          "execution_count": 4
        }
      ]
    },
    {
      "cell_type": "code",
      "source": [
        "#Get the article\n",
        "article = Article('https://www.mayoclinic.org/diseases-conditions/mental-illness/symptoms-causes/syc-20374968')\n",
        "article.download()\n",
        "article.parse()\n",
        "article.nlp()\n",
        "corpus = article.text"
      ],
      "metadata": {
        "id": "VKHDphem57-q"
      },
      "execution_count": 5,
      "outputs": []
    },
    {
      "cell_type": "code",
      "source": [
        "#Print the text in the article\n",
        "print(corpus)"
      ],
      "metadata": {
        "colab": {
          "base_uri": "https://localhost:8080/"
        },
        "id": "85ipBrgu6xfD",
        "outputId": "02592dce-7d24-4675-ec3a-c9b80e1cf124"
      },
      "execution_count": 6,
      "outputs": [
        {
          "output_type": "stream",
          "name": "stdout",
          "text": [
            "Overview\n",
            "\n",
            "Mental illness, also called mental health disorders, refers to a wide range of mental health conditions — disorders that affect your mood, thinking and behavior. Examples of mental illness include depression, anxiety disorders, schizophrenia, eating disorders and addictive behaviors.\n",
            "\n",
            "Many people have mental health concerns from time to time. But a mental health concern becomes a mental illness when ongoing signs and symptoms cause frequent stress and affect your ability to function.\n",
            "\n",
            "A mental illness can make you miserable and can cause problems in your daily life, such as at school or work or in relationships. In most cases, symptoms can be managed with a combination of medications and talk therapy (psychotherapy).\n",
            "\n",
            "Symptoms\n",
            "\n",
            "Signs and symptoms of mental illness can vary, depending on the disorder, circumstances and other factors. Mental illness symptoms can affect emotions, thoughts and behaviors.\n",
            "\n",
            "Examples of signs and symptoms include:\n",
            "\n",
            "Feeling sad or down\n",
            "\n",
            "Confused thinking or reduced ability to concentrate\n",
            "\n",
            "Excessive fears or worries, or extreme feelings of guilt\n",
            "\n",
            "Extreme mood changes of highs and lows\n",
            "\n",
            "Withdrawal from friends and activities\n",
            "\n",
            "Significant tiredness, low energy or problems sleeping\n",
            "\n",
            "Detachment from reality (delusions), paranoia or hallucinations\n",
            "\n",
            "Inability to cope with daily problems or stress\n",
            "\n",
            "Trouble understanding and relating to situations and to people\n",
            "\n",
            "Problems with alcohol or drug use\n",
            "\n",
            "Major changes in eating habits\n",
            "\n",
            "Sex drive changes\n",
            "\n",
            "Excessive anger, hostility or violence\n",
            "\n",
            "Suicidal thinking\n",
            "\n",
            "Sometimes symptoms of a mental health disorder appear as physical problems, such as stomach pain, back pain, headaches, or other unexplained aches and pains.\n",
            "\n",
            "When to see a doctor\n",
            "\n",
            "If you have any signs or symptoms of a mental illness, see your primary care provider or a mental health professional. Most mental illnesses don't improve on their own, and if untreated, a mental illness may get worse over time and cause serious problems.\n",
            "\n",
            "If you have suicidal thoughts\n",
            "\n",
            "Suicidal thoughts and behavior are common with some mental illnesses. If you think you may hurt yourself or attempt suicide, get help right away:\n",
            "\n",
            "Call 911 or your local emergency number immediately.\n",
            "\n",
            "Call your mental health specialist.\n",
            "\n",
            "Call a suicide hotline number. In the U.S., call the National Suicide Prevention Lifeline at 1-800-273-TALK (1-800-273-8255) or use its webchat on suicidepreventionlifeline.org/chat.\n",
            "\n",
            "Seek help from your primary care provider.\n",
            "\n",
            "Reach out to a close friend or loved one.\n",
            "\n",
            "Contact a minister, spiritual leader or someone else in your faith community.\n",
            "\n",
            "Suicidal thinking doesn't get better on its own — so get help.\n",
            "\n",
            "Helping a loved one\n",
            "\n",
            "If your loved one shows signs of mental illness, have an open and honest discussion with him or her about your concerns. You may not be able to force someone to get professional care, but you can offer encouragement and support. You can also help your loved one find a qualified mental health professional and make an appointment. You may even be able to go along to the appointment.\n",
            "\n",
            "If your loved one has done self-harm or is considering doing so, take the person to the hospital or call for emergency help.\n",
            "\n",
            "There is a problem with information submitted for this request. Review/update the information highlighted below and resubmit the form. From Mayo Clinic to your inbox Sign up for free, and stay up to date on research advancements, health tips and current health topics, like COVID-19, plus expertise on managing health. Email ErrorEmail field is required ErrorInclude a valid email address Learn more about Mayo Clinic’s use of data. To provide you with the most relevant and helpful information, and understand which information is beneficial, we may combine your email and website usage information with other information we have about you. If you are a Mayo Clinic patient, this could include protected health information. If we combine this information with your protected health information, we will treat all of that information as protected health information and will only use or disclose that information as set forth in our notice of privacy practices. You may opt-out of email communications at any time by clicking on the unsubscribe link in the e-mail. Subscribe! Thank you for subscribing! You'll soon start receiving the latest Mayo Clinic health information you requested in your inbox. Sorry something went wrong with your subscription Please, try again in a couple of minutes Retry\n",
            "\n",
            "Causes\n",
            "\n",
            "Mental illnesses, in general, are thought to be caused by a variety of genetic and environmental factors:\n",
            "\n",
            "Inherited traits. Mental illness is more common in people whose blood relatives also have a mental illness. Certain genes may increase your risk of developing a mental illness, and your life situation may trigger it.\n",
            "\n",
            "Mental illness is more common in people whose blood relatives also have a mental illness. Certain genes may increase your risk of developing a mental illness, and your life situation may trigger it. Environmental exposures before birth. Exposure to environmental stressors, inflammatory conditions, toxins, alcohol or drugs while in the womb can sometimes be linked to mental illness.\n",
            "\n",
            "Exposure to environmental stressors, inflammatory conditions, toxins, alcohol or drugs while in the womb can sometimes be linked to mental illness. Brain chemistry. Neurotransmitters are naturally occurring brain chemicals that carry signals to other parts of your brain and body. When the neural networks involving these chemicals are impaired, the function of nerve receptors and nerve systems change, leading to depression and other emotional disorders.\n",
            "\n",
            "Risk factors\n",
            "\n",
            "Certain factors may increase your risk of developing a mental illness, including:\n",
            "\n",
            "A history of mental illness in a blood relative, such as a parent or sibling\n",
            "\n",
            "Stressful life situations, such as financial problems, a loved one's death or a divorce\n",
            "\n",
            "An ongoing (chronic) medical condition, such as diabetes\n",
            "\n",
            "Brain damage as a result of a serious injury (traumatic brain injury), such as a violent blow to the head\n",
            "\n",
            "Traumatic experiences, such as military combat or assault\n",
            "\n",
            "Use of alcohol or recreational drugs\n",
            "\n",
            "A childhood history of abuse or neglect\n",
            "\n",
            "Few friends or few healthy relationships\n",
            "\n",
            "A previous mental illness\n",
            "\n",
            "Mental illness is common. About 1 in 5 adults has a mental illness in any given year. Mental illness can begin at any age, from childhood through later adult years, but most cases begin earlier in life.\n",
            "\n",
            "The effects of mental illness can be temporary or long lasting. You also can have more than one mental health disorder at the same time. For example, you may have depression and a substance use disorder.\n",
            "\n",
            "Complications\n",
            "\n",
            "Mental illness is a leading cause of disability. Untreated mental illness can cause severe emotional, behavioral and physical health problems. Complications sometimes linked to mental illness include:\n",
            "\n",
            "Unhappiness and decreased enjoyment of life\n",
            "\n",
            "Family conflicts\n",
            "\n",
            "Relationship difficulties\n",
            "\n",
            "Social isolation\n",
            "\n",
            "Problems with tobacco, alcohol and other drugs\n",
            "\n",
            "Missed work or school, or other problems related to work or school\n",
            "\n",
            "Legal and financial problems\n",
            "\n",
            "Poverty and homelessness\n",
            "\n",
            "Self-harm and harm to others, including suicide or homicide\n",
            "\n",
            "Weakened immune system, so your body has a hard time resisting infections\n",
            "\n",
            "Heart disease and other medical conditions\n",
            "\n",
            "Prevention\n",
            "\n",
            "There's no sure way to prevent mental illness. However, if you have a mental illness, taking steps to control stress, to increase your resilience and to boost low self-esteem may help keep your symptoms under control. Follow these steps:\n"
          ]
        }
      ]
    },
    {
      "cell_type": "code",
      "source": [
        "#Tokenization\n",
        "text = corpus\n",
        "sentence_list = nltk.sent_tokenize(text) # will produce a list of sentences from the article text"
      ],
      "metadata": {
        "id": "6fH0_os97DKI"
      },
      "execution_count": 7,
      "outputs": []
    },
    {
      "cell_type": "code",
      "source": [
        "#Print the sentences list\n",
        "print(sentence_list)"
      ],
      "metadata": {
        "colab": {
          "base_uri": "https://localhost:8080/"
        },
        "id": "aupH5g2i7kn2",
        "outputId": "db23d34b-bf66-462d-f3ab-2ed815ba5af2"
      },
      "execution_count": 8,
      "outputs": [
        {
          "output_type": "stream",
          "name": "stdout",
          "text": [
            "['Overview\\n\\nMental illness, also called mental health disorders, refers to a wide range of mental health conditions — disorders that affect your mood, thinking and behavior.', 'Examples of mental illness include depression, anxiety disorders, schizophrenia, eating disorders and addictive behaviors.', 'Many people have mental health concerns from time to time.', 'But a mental health concern becomes a mental illness when ongoing signs and symptoms cause frequent stress and affect your ability to function.', 'A mental illness can make you miserable and can cause problems in your daily life, such as at school or work or in relationships.', 'In most cases, symptoms can be managed with a combination of medications and talk therapy (psychotherapy).', 'Symptoms\\n\\nSigns and symptoms of mental illness can vary, depending on the disorder, circumstances and other factors.', 'Mental illness symptoms can affect emotions, thoughts and behaviors.', 'Examples of signs and symptoms include:\\n\\nFeeling sad or down\\n\\nConfused thinking or reduced ability to concentrate\\n\\nExcessive fears or worries, or extreme feelings of guilt\\n\\nExtreme mood changes of highs and lows\\n\\nWithdrawal from friends and activities\\n\\nSignificant tiredness, low energy or problems sleeping\\n\\nDetachment from reality (delusions), paranoia or hallucinations\\n\\nInability to cope with daily problems or stress\\n\\nTrouble understanding and relating to situations and to people\\n\\nProblems with alcohol or drug use\\n\\nMajor changes in eating habits\\n\\nSex drive changes\\n\\nExcessive anger, hostility or violence\\n\\nSuicidal thinking\\n\\nSometimes symptoms of a mental health disorder appear as physical problems, such as stomach pain, back pain, headaches, or other unexplained aches and pains.', 'When to see a doctor\\n\\nIf you have any signs or symptoms of a mental illness, see your primary care provider or a mental health professional.', \"Most mental illnesses don't improve on their own, and if untreated, a mental illness may get worse over time and cause serious problems.\", 'If you have suicidal thoughts\\n\\nSuicidal thoughts and behavior are common with some mental illnesses.', 'If you think you may hurt yourself or attempt suicide, get help right away:\\n\\nCall 911 or your local emergency number immediately.', 'Call your mental health specialist.', 'Call a suicide hotline number.', 'In the U.S., call the National Suicide Prevention Lifeline at 1-800-273-TALK (1-800-273-8255) or use its webchat on suicidepreventionlifeline.org/chat.', 'Seek help from your primary care provider.', 'Reach out to a close friend or loved one.', 'Contact a minister, spiritual leader or someone else in your faith community.', \"Suicidal thinking doesn't get better on its own — so get help.\", 'Helping a loved one\\n\\nIf your loved one shows signs of mental illness, have an open and honest discussion with him or her about your concerns.', 'You may not be able to force someone to get professional care, but you can offer encouragement and support.', 'You can also help your loved one find a qualified mental health professional and make an appointment.', 'You may even be able to go along to the appointment.', 'If your loved one has done self-harm or is considering doing so, take the person to the hospital or call for emergency help.', 'There is a problem with information submitted for this request.', 'Review/update the information highlighted below and resubmit the form.', 'From Mayo Clinic to your inbox Sign up for free, and stay up to date on research advancements, health tips and current health topics, like COVID-19, plus expertise on managing health.', 'Email ErrorEmail field is required ErrorInclude a valid email address Learn more about Mayo Clinic’s use of data.', 'To provide you with the most relevant and helpful information, and understand which information is beneficial, we may combine your email and website usage information with other information we have about you.', 'If you are a Mayo Clinic patient, this could include protected health information.', 'If we combine this information with your protected health information, we will treat all of that information as protected health information and will only use or disclose that information as set forth in our notice of privacy practices.', 'You may opt-out of email communications at any time by clicking on the unsubscribe link in the e-mail.', 'Subscribe!', 'Thank you for subscribing!', \"You'll soon start receiving the latest Mayo Clinic health information you requested in your inbox.\", 'Sorry something went wrong with your subscription Please, try again in a couple of minutes Retry\\n\\nCauses\\n\\nMental illnesses, in general, are thought to be caused by a variety of genetic and environmental factors:\\n\\nInherited traits.', 'Mental illness is more common in people whose blood relatives also have a mental illness.', 'Certain genes may increase your risk of developing a mental illness, and your life situation may trigger it.', 'Mental illness is more common in people whose blood relatives also have a mental illness.', 'Certain genes may increase your risk of developing a mental illness, and your life situation may trigger it.', 'Environmental exposures before birth.', 'Exposure to environmental stressors, inflammatory conditions, toxins, alcohol or drugs while in the womb can sometimes be linked to mental illness.', 'Exposure to environmental stressors, inflammatory conditions, toxins, alcohol or drugs while in the womb can sometimes be linked to mental illness.', 'Brain chemistry.', 'Neurotransmitters are naturally occurring brain chemicals that carry signals to other parts of your brain and body.', 'When the neural networks involving these chemicals are impaired, the function of nerve receptors and nerve systems change, leading to depression and other emotional disorders.', \"Risk factors\\n\\nCertain factors may increase your risk of developing a mental illness, including:\\n\\nA history of mental illness in a blood relative, such as a parent or sibling\\n\\nStressful life situations, such as financial problems, a loved one's death or a divorce\\n\\nAn ongoing (chronic) medical condition, such as diabetes\\n\\nBrain damage as a result of a serious injury (traumatic brain injury), such as a violent blow to the head\\n\\nTraumatic experiences, such as military combat or assault\\n\\nUse of alcohol or recreational drugs\\n\\nA childhood history of abuse or neglect\\n\\nFew friends or few healthy relationships\\n\\nA previous mental illness\\n\\nMental illness is common.\", 'About 1 in 5 adults has a mental illness in any given year.', 'Mental illness can begin at any age, from childhood through later adult years, but most cases begin earlier in life.', 'The effects of mental illness can be temporary or long lasting.', 'You also can have more than one mental health disorder at the same time.', 'For example, you may have depression and a substance use disorder.', 'Complications\\n\\nMental illness is a leading cause of disability.', 'Untreated mental illness can cause severe emotional, behavioral and physical health problems.', \"Complications sometimes linked to mental illness include:\\n\\nUnhappiness and decreased enjoyment of life\\n\\nFamily conflicts\\n\\nRelationship difficulties\\n\\nSocial isolation\\n\\nProblems with tobacco, alcohol and other drugs\\n\\nMissed work or school, or other problems related to work or school\\n\\nLegal and financial problems\\n\\nPoverty and homelessness\\n\\nSelf-harm and harm to others, including suicide or homicide\\n\\nWeakened immune system, so your body has a hard time resisting infections\\n\\nHeart disease and other medical conditions\\n\\nPrevention\\n\\nThere's no sure way to prevent mental illness.\", 'However, if you have a mental illness, taking steps to control stress, to increase your resilience and to boost low self-esteem may help keep your symptoms under control.', 'Follow these steps:']\n"
          ]
        }
      ]
    },
    {
      "cell_type": "code",
      "source": [
        "# Function to return a random greeting responce\n",
        "def greeting_responce(text):\n",
        "  text = text.lower()\n",
        "\n",
        "  #Bot greeting resonce\n",
        "  bot_greetings = ['hello', 'welcome', 'hi', 'hay', 'hi there']\n",
        "  #User Greeting\n",
        "  user_greetings = ['hello', 'welcome', 'hi', 'hay', 'hi there', 'greetings', 'alright', 'wassup']\n",
        "\n",
        "  for word in text.split():\n",
        "    if word in user_greetings:\n",
        "      return random.choice(bot_greetings)"
      ],
      "metadata": {
        "id": "xpKm0oU87wZW"
      },
      "execution_count": 9,
      "outputs": []
    },
    {
      "cell_type": "code",
      "source": [
        "def index_sort(list_var):\n",
        "  length = len(list_var)\n",
        "  list_index = list(range(0, length))\n",
        "\n",
        "  x = list_var\n",
        "  for i in range(length):\n",
        "    for j in range(length):\n",
        "      if x[list_index[i]] > x[list_index[j]]:\n",
        "        #sort\n",
        "        temp = list_index[i]\n",
        "        list_index[i] = list_index[j]\n",
        "        list_index[j] = temp\n",
        "\n",
        "  return list_index"
      ],
      "metadata": {
        "id": "3G3_rTD3-x1T"
      },
      "execution_count": 10,
      "outputs": []
    },
    {
      "cell_type": "code",
      "source": [
        "#create bot responce\n",
        "def bot_responce(user_input):\n",
        "  user_input = user_input.lower()\n",
        "  sentence_list.append(user_input)\n",
        "  bot_responce = ''\n",
        "  cm = CountVectorizer().fit_transform(sentence_list)\n",
        "  simiarity_scores = cosine_similarity(cm[-1], cm)\n",
        "  simiarity_scores_list = simiarity_scores.flatten()\n",
        "  index = index_sort(simiarity_scores_list)\n",
        "  index = index[1:]\n",
        "  responce_flag = 0\n",
        "\n",
        "  j = 0\n",
        "  for i in range(len(index)):\n",
        "    if simiarity_scores_list[index[i]] > 0.0:\n",
        "      bot_responce = bot_responce+' '+sentence_list[index[i]]\n",
        "      responce_flag = 1\n",
        "      j = j+1\n",
        "    if j > 2:\n",
        "      break\n",
        "\n",
        "  if responce_flag == 0:\n",
        "     bot_responce = bot_responce+' '+\"Im sorry, i dont understand your question.\"\n",
        "\n",
        "  sentence_list.remove(user_input)\n",
        "\n",
        "  return bot_responce"
      ],
      "metadata": {
        "id": "IPaWf1v79fMJ"
      },
      "execution_count": 11,
      "outputs": []
    },
    {
      "cell_type": "code",
      "source": [
        "#start chat\n",
        "print('Doc Bot(Morgan): My Name is Morgan or Doc Bot if you prefer. I will help with your queries and question about Mental Illness. At any point if you wish to end the chat, type bye.')\n",
        "\n",
        "exit_list = ['exit', 'bye', 'quit', 'goodbye']\n",
        "\n",
        "while(True):\n",
        "  user_input = input()\n",
        "  if user_input.lower() in exit_list:\n",
        "    print('Doc Bot(Morgan): I hope i was helpful, see you again soon!')\n",
        "    break\n",
        "  else:\n",
        "    if greeting_responce(user_input) != None:\n",
        "      print('Doc Bot(Morgan): '+greeting_responce(user_input))\n",
        "    else:\n",
        "      print('Doc Bot(Morgan): '+bot_responce(user_input))"
      ],
      "metadata": {
        "colab": {
          "base_uri": "https://localhost:8080/"
        },
        "id": "beWASJKrChZ4",
        "outputId": "5fbfdd34-c478-4d6d-8ee3-7bbf8dc49739"
      },
      "execution_count": 17,
      "outputs": [
        {
          "output_type": "stream",
          "name": "stdout",
          "text": [
            "Doc Bot(Morgan): My Name is Morgan or Doc Bot if you prefer. I will help with your queries and question about Mental Illness. At any point if you wish to end the chat, type bye.\n",
            "feeling low\n",
            "Doc Bot(Morgan):  However, if you have a mental illness, taking steps to control stress, to increase your resilience and to boost low self-esteem may help keep your symptoms under control. Examples of signs and symptoms include:\n",
            "\n",
            "Feeling sad or down\n",
            "\n",
            "Confused thinking or reduced ability to concentrate\n",
            "\n",
            "Excessive fears or worries, or extreme feelings of guilt\n",
            "\n",
            "Extreme mood changes of highs and lows\n",
            "\n",
            "Withdrawal from friends and activities\n",
            "\n",
            "Significant tiredness, low energy or problems sleeping\n",
            "\n",
            "Detachment from reality (delusions), paranoia or hallucinations\n",
            "\n",
            "Inability to cope with daily problems or stress\n",
            "\n",
            "Trouble understanding and relating to situations and to people\n",
            "\n",
            "Problems with alcohol or drug use\n",
            "\n",
            "Major changes in eating habits\n",
            "\n",
            "Sex drive changes\n",
            "\n",
            "Excessive anger, hostility or violence\n",
            "\n",
            "Suicidal thinking\n",
            "\n",
            "Sometimes symptoms of a mental health disorder appear as physical problems, such as stomach pain, back pain, headaches, or other unexplained aches and pains.\n",
            "pensil\n",
            "Doc Bot(Morgan):  Im sorry, i dont understand your question.\n",
            "exit\n",
            "Doc Bot(Morgan): I hope i was helpful, see you again soon!\n"
          ]
        }
      ]
    }
  ]
}